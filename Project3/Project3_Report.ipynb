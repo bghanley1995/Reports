{
 "cells": [
  {
   "cell_type": "markdown",
   "metadata": {},
   "source": [
    "# Using Verlet Equations to Model Solar System\n",
    "### By Brian Hanley\n",
    "\n",
    "## Abstract:\n",
    "\n",
    "For this project I will be showing how the velocity verlet equation can be used to model the orbits of planets in our solar system. I will show that for significantly small step sizes the end positions for planets calculated with the verlet equations will be almost the same, but will change exponentially with larger increases in step size.\n",
    "\n",
    "## Introduction:\n",
    "\n",
    "Our solar system is held together by the gravitational force between the planets and the Sun. This force creates the centripital acceleration needed to keep the planets in orbit around the Sun. The planets also have a velocity perpendicular to the centripital acceleration that keeps them from being pulled into the Sun. We can represent the equations of motion for the planets using the Velocity Verlet method and Newton's Law of Gravity to approximate their orbits over time.\n",
    "\n",
    "## Method:\n",
    "\n",
    "### Verlet Method\n",
    "The Verlet method is a way to approximate the integral of a function over a given integral using stepping. According to the kinematic equations the new position of an object, $p$, after a given time interval, $dt$, is has the following form\n",
    "$pos= pos_0 + v*dt+ 1/2*a*dt^2$. The $p_0$ term is the obects initial position, $v$ is the velocity, and $a$ is the acceleration. The new velocity is found using the equation $v=v_0+a*dt$ where $v_0$ is the initial velocity. In the verlet method we set a small step size and update the position and velocity for each step. In this method $pos$ and $v$ are treated as $dpos$ and $dv$. As we go we update the position and velocity by summing in the recieved $dpos$ and $dv$. The intial position and velocity are the position and velocity we recieved from the last step of the cycle. \n",
    "\n",
    "### Verlet Method for Changing Acceleration\n",
    "For the case of planetary orbits where the position of the planet affects the acceleration of the planet we first update the position with our old velocity, then find the new acceleration using Newton's Law of Gravity, and then we find the velocity o the position by averaging over the accelerations $v=v_0+1/2(a_new+a_old)*dt$.\n",
    "\n",
    "### Gravitational Acceleration\n",
    "To find the new acceleration we start with Newton's Law of Gravity, $F_G=(G*M_1*M_2)/(R^2)$ where $F_G$ is the gravitational force, $G$ is the gravitational constant, $M_1$ and $M_2$ are the masses, and $R$ is the distance between the two masses. By applying Newton's Second Law $F=m*a$ we can find the gravitational acceleration for $M_1$. $F=M_1*a = (G*M_1*M_2)/(R^2) --> a = (G*M_2)/(R^2)$ where the acceleration vector points from $M_1$ to $M_2$. For a multibody system we must consider the gravitational acceleration caused by all objects on each other. We can do this by adding all the accelerations together.\n",
    "\n",
    "### Values of planets\n",
    "\n",
    "All planets begin on the x-axis at the given average radius from the sun. Their initial velocity is in the positive y direction, perpendicular to the x-axis. All values are from https://ssd.jpl.nasa.gov/?planet_phys_par and https://nssdc.gsfc.nasa.gov/planetary/factsheet/\n",
    "\n",
    "|Planet   |Mass(10^24 kg)|Average Radius(AU) |Velocity(AU/year)|\n",
    "|---------|--------------|-------------------|-----------------|\n",
    "|Sun      |1.989x10^6    |0                  |0                |\n",
    "|Earth    |5.97          |1                  |6.820            |\n",
    "|Jupiter  |1898          |5.203              |2.960            |\n",
    "|Mercury  |0.330         |0.39               |10.960           |\n",
    "|Venus    |4.87          |0.723              |8.007            |\n",
    "|Mars     |0.642         |1.524              |5.470            |\n",
    "|Saturn   |568           |9.539              |2.203            |\n",
    "|Uranus   |86.8          |19.18              |1.555            |\n",
    "|Neptune  |102           |30.06              |1.241            |\n",
    "|Pluto    |0.0146        |39.53              |1.084            |\n",
    "\n",
    "### Classes \n",
    "\n",
    "I have written 2 classes for my project. One for planets that stores our time dependent variables and the mass of the planet. It also has a method to calculate the acceleration of that planet. The other class was for my solar system. This stores each planet, the time, and the time step size. It has functions to perform the verlet method and update the values of each planet in our solar system and to plot the solar system.\n",
    "\n",
    "### Display Methods\n",
    "\n",
    "Each trial will print off the initial and final values for all time dependant variables of every \"planet\" including the sun. They are expressed as vectors in 3d space although the z value of all vectors will always be zero affectively placing it in 2d space. Using the plot function of the solar system class will show the current position of the planets in the solar system.\n",
    "\n",
    "\n",
    "## Problem a, b, and c\n",
    "\n",
    "Below we simulate the Earth Sun model of our solar system where we take into account only the acceleration on our planet due to the Sun and vice versa. We find the initial and final values of the potential energies and compare them to see how accurate our result is."
   ]
  },
  {
   "cell_type": "code",
   "execution_count": 5,
   "metadata": {
    "collapsed": false
   },
   "outputs": [
    {
     "name": "stdout",
     "output_type": "stream",
     "text": [
      "Start\n",
      "Sun: Position: [0 0 0], Velocity: [ 0.  0.  0.], Acceleration: [ 0.00011862  0.          0.        ]\n",
      "Earth: Position: [1 0 0], Velocity: [ 0.        6.819943  0.      ], Acceleration: [-39.5204355   0.          0.       ]\n",
      "End:\n",
      "Sun: Position: [  4.29817281e-06   2.40575552e-05   0.00000000e+00], Velocity: [ -1.63273465e-05   2.33868670e-05   0.00000000e+00], Acceleration: [ -2.60272773e-05  -7.08838535e-05   0.00000000e+00]\n",
      "Earth: Position: [-0.43200431 -1.17652755  0.        ], Velocity: [ 5.43971394 -0.97176193  0.        ], Acceleration: [  8.67139942  23.61607782   0.        ]\n",
      "\n",
      "Potential Energy\n",
      "-2.35936999935e+26\n",
      "-2.95701973398e+26\n",
      "25.3309033681\n",
      "\n",
      "Kinetic Energy\n",
      "1.38837193232e+26\n",
      "9.11472140144e+25\n",
      "34.3495702465\n",
      "\n",
      "Energy\n",
      "-9.70998067031e+25\n",
      "-2.04554759384e+26\n",
      "110.664435213\n"
     ]
    },
    {
     "data": {
      "image/png": "[encoded data removed]",
      "text/plain": [
       "<matplotlib.figure.Figure at 0xde19b1c668>"
      ]
     },
     "metadata": {},
     "output_type": "display_data"
    }
   ],
   "source": [
    "import solarsystem as ss\n",
    "import math\n",
    "import numpy as np\n",
    "import matplotlib.pyplot as plt\n",
    "\n",
    "#Gravitational Constant\n",
    "G=19.8695*10**(-30)\n",
    "\n",
    "sol=ss.solar_system(max_time=1)\n",
    "\n",
    "init_vel_sun=np.linalg.norm(sol.system[0].vel)\n",
    "init_vel_earth=np.linalg.norm(sol.system[1].vel)\n",
    "\n",
    "init_ke= .5*sol.system[1].mass*init_vel_earth**2+.5*sol.system[0].mass*init_vel_sun**2\n",
    "init_pe= -G*sol.system[1].mass*sol.system[0].mass*(abs(np.linalg.norm(sol.system[1].pos)-np.linalg.norm(sol.system[0].pos)))\n",
    "init_e=init_ke+init_pe\n",
    "\n",
    "sol.run()\n",
    "\n",
    "fin_vel_sun=np.linalg.norm(sol.system[0].vel)\n",
    "fin_vel_earth=np.linalg.norm(sol.system[1].vel)\n",
    "\n",
    "fin_pe=-G*sol.system[1].mass*sol.system[0].mass*(abs(np.linalg.norm(sol.system[1].pos)-np.linalg.norm(sol.system[0].pos)))\n",
    "fin_ke= .5*sol.system[1].mass*fin_vel_earth**2+.5*sol.system[0].mass*fin_vel_sun**2\n",
    "fin_e=fin_ke+fin_pe\n",
    "\n",
    "color=['r','g','b']\n",
    "\n",
    "for i in range(len(sol.system)):\n",
    "    \n",
    "    plt.scatter(sol.system[i].pos[0],sol.system[i].pos[1],c=color[i])\n",
    "\n",
    "pd_pe= (abs(fin_pe-init_pe)/abs(init_pe))*100\n",
    "pd_ke= (abs(fin_ke-init_ke)/abs(init_ke))*100\n",
    "pd=(abs(fin_e-init_e)/abs(init_e))*100\n",
    "\n",
    "print(\"\\nPotential Energy\")\n",
    "print(init_pe)\n",
    "print(fin_pe)\n",
    "print(pd_pe)\n",
    "\n",
    "print(\"\\nKinetic Energy\")\n",
    "print(init_ke)\n",
    "print(fin_ke)\n",
    "print(pd_ke)\n",
    "\n",
    "\n",
    "print(\"\\nEnergy\")\n",
    "print(init_e)\n",
    "print(fin_e)\n",
    "print(pd)"
   ]
  },
  {
   "cell_type": "markdown",
   "metadata": {},
   "source": [
    "As we can see there is a 25% difference in the final and initial potential energy. In addition to this the final position for the planet is off. The default step size is 1/365 year and the max time is 1 year. This should come close to representing our own planet's orbit over the course of one year. This does not appear to be the case as our planet ends up almost opposite where it began in the time frame that should be a year. Perhaps decreasing the step size will make our outcome more accurate. In this next section I will test the effects of time step size on the percent difference in the potential energy."
   ]
  },
  {
   "cell_type": "code",
   "execution_count": 35,
   "metadata": {
    "collapsed": false
   },
   "outputs": [
    {
     "data": {
      "image/png": "[encoded data removed]",
      "text/plain": [
       "<matplotlib.figure.Figure at 0xc9c2514518>"
      ]
     },
     "metadata": {},
     "output_type": "display_data"
    }
   ],
   "source": [
    "import numpy as np\n",
    "import matplotlib.pyplot as plt\n",
    "%matplotlib inline\n",
    "\n",
    "pd_pe=[]\n",
    "time_step=[]\n",
    "\n",
    "for i in [10,100,1000,10000]:\n",
    "    \n",
    "    time_step.append((1/(i*365)))\n",
    "    step_test=ss.solar_system(step_size=(1/i))\n",
    "    init_pe= -G*step_test.system[1].mass*step_test.system[0].mass*\\\n",
    "    (abs(np.linalg.norm(step_test.system[1].pos)-np.linalg.norm(step_test.system[0].pos)))\n",
    "    \n",
    "    step_test.run(p=False)\n",
    "    fin_pe= -G*step_test.system[1].mass*step_test.system[0].mass*\\\n",
    "    (abs(np.linalg.norm(step_test.system[1].pos)-np.linalg.norm(step_test.system[0].pos)))\n",
    "    \n",
    "    pd=(abs(fin_pe-init_pe)/abs(init_pe))*100\n",
    "    pd_pe.append(pd)\n",
    "    \n",
    "    \n",
    "plt.scatter(time_step,pd_pe)\n",
    "plt.axis([0,0.0003,20,45])\n",
    "plt.title(\"Percent Difference of Potential Energy Versus Time Step Size\")\n",
    "plt.ylabel(\"Percent Error of Potential Energy\")\n",
    "plt.xlabel(\"Time Step Size\")\n",
    "plt.show()"
   ]
  },
  {
   "cell_type": "markdown",
   "metadata": {},
   "source": [
    "In the above cell I show that as we increase the step size of the time the percent difference in potential energy also increases. Things seem to level out at 25% so there must be an error in my program that is causing it."
   ]
  },
  {
   "cell_type": "markdown",
   "metadata": {},
   "source": [
    "In this test we will show the difference between the 2 body and 3 body system where we add in Jupiter."
   ]
  },
  {
   "cell_type": "code",
   "execution_count": 8,
   "metadata": {
    "collapsed": false
   },
   "outputs": [
    {
     "name": "stdout",
     "output_type": "stream",
     "text": [
      "Earth Sun System \n",
      "\n",
      "Start\n",
      "Sun: Position: [0 0 0], Velocity: [ 0.  0.  0.], Acceleration: [ 0.00011862  0.          0.        ]\n",
      "Earth: Position: [1 0 0], Velocity: [ 0.        6.819943  0.      ], Acceleration: [-39.5204355   0.          0.       ]\n",
      "End:\n",
      "Sun: Position: [  4.29817281e-06   2.40575552e-05   0.00000000e+00], Velocity: [ -1.63273465e-05   2.33868670e-05   0.00000000e+00], Acceleration: [ -2.60272773e-05  -7.08838535e-05   0.00000000e+00]\n",
      "Earth: Position: [-0.43200431 -1.17652755  0.        ], Velocity: [ 5.43971394 -0.97176193  0.        ], Acceleration: [  8.67139942  23.61607782   0.        ]\n",
      "\n",
      "Earth Sun Jupiter Sytem \n",
      "\n",
      "Start\n",
      "Sun: Position: [0 0 0], Velocity: [ 0.  0.  0.], Acceleration: [ 0.0015117  0.         0.       ]\n",
      "Earth: Position: [1 0 0], Velocity: [ 0.        6.819943  0.      ], Acceleration: [-39.51830066   0.           0.        ]\n",
      "Jupiter: Position: [ 5.203  0.     0.   ], Velocity: [ 0.          2.95985526  0.        ], Acceleration: [-1.45987633  0.          0.        ]\n",
      "End:\n",
      "Sun: Position: [ 0.0006815   0.00015294  0.        ], Velocity: [ 0.00128979  0.00040078  0.        ], Acceleration: [ 0.00110487  0.00064217  0.        ]\n",
      "Earth: Position: [-0.43116253 -1.17646402  0.        ], Velocity: [ 5.44104464 -0.97100368  0.        ], Acceleration: [  8.66872489  23.61771806   0.        ]\n",
      "Jupiter: Position: [ 4.49333074  2.83289902  0.        ], Velocity: [-1.36873988  2.56436628  0.        ], Acceleration: [-1.18510983 -0.74724665  0.        ]\n"
     ]
    },
    {
     "data": {
      "image/png": "[encoded data removed]",
      "text/plain": [
       "<matplotlib.figure.Figure at 0xde19c0b128>"
      ]
     },
     "metadata": {},
     "output_type": "display_data"
    },
    {
     "data": {
      "image/png": "[encoded data removed]",
      "text/plain": [
       "<matplotlib.figure.Figure at 0xde19a5d5f8>"
      ]
     },
     "metadata": {},
     "output_type": "display_data"
    },
    {
     "name": "stdout",
     "output_type": "stream",
     "text": [
      "Percent Difference in X Position:  -0.00195044812979\n",
      "Percent Difference in Y Position:  -5.3997746073e-05\n"
     ]
    }
   ],
   "source": [
    "sol=ss.solar_system(n_planets=2)\n",
    "\n",
    "print(\"Earth Sun System \\n\")\n",
    "sol.run()\n",
    "\n",
    "print()\n",
    "print(\"Earth Sun Jupiter Sytem \\n\")\n",
    "sol_jupiter=ss.solar_system(n_planets=3)\n",
    "sol_jupiter.run()\n",
    "\n",
    "color=['r','g','b']\n",
    "\n",
    "for i in range(len(sol.system)):\n",
    "    \n",
    "    plt.scatter(sol.system[i].pos[0],sol.system[i].pos[1],c=color[i])\n",
    "    \n",
    "plt.title(\"Earth Sun System\")\n",
    "plt.show()\n",
    "\n",
    "for i in range(len(sol_jupiter.system)):\n",
    "    \n",
    "    plt.scatter(sol_jupiter.system[i].pos[0],sol_jupiter.system[i].pos[1],c=color[i])\n",
    "    \n",
    "plt.title(\"Earth Sun Jupiter System\")\n",
    "plt.show()\n",
    "\n",
    "pd_x= abs((sol.system[1].pos[0])-sol_jupiter.system[1].pos[0])\\\n",
    "/(.5*(sol.system[1].pos[0]+sol_jupiter.system[1].pos[0]))\n",
    "\n",
    "pd_y= abs((sol.system[1].pos[1])-sol_jupiter.system[1].pos[1])\\\n",
    "/(.5*(sol.system[1].pos[1]+sol_jupiter.system[1].pos[1]))\n",
    "\n",
    "print(\"Percent Difference in X Position: \",pd_x)\n",
    "print(\"Percent Difference in Y Position: \",pd_y)"
   ]
  },
  {
   "cell_type": "markdown",
   "metadata": {},
   "source": [
    "In this run the red dot is the Sun, the green dot is the Earth, and the blue dot is Jupiter. As you can the addition of Jupiter does very little to the final position of the Earth. This may be due to an error somewhere in my program so I will now try it with all of the planets. The fact that they are different at all gives me some hope because it means there must be some interaction registering between the Earth and Jupiter. If there wasn't we'd expect the position to be almost exactly the same."
   ]
  },
  {
   "cell_type": "markdown",
   "metadata": {},
   "source": [
    "The below function runs a model of the solar system with all the major planets and Pluto. Afterwards I will calculate the percent difference in the position of the Earth from this run and the Earth Sun run from my previous program."
   ]
  },
  {
   "cell_type": "code",
   "execution_count": 9,
   "metadata": {
    "collapsed": false
   },
   "outputs": [
    {
     "name": "stdout",
     "output_type": "stream",
     "text": [
      "Start\n",
      "Sun: Position: [0 0 0], Velocity: [ 0.  0.  0.], Acceleration: [ 0.00187638  0.          0.        ]\n",
      "Earth: Position: [1 0 0], Velocity: [ 0.        6.819943  0.      ], Acceleration: [-39.51937055   0.           0.        ]\n",
      "Jupiter: Position: [ 5.203  0.     0.   ], Velocity: [ 0.          2.95985526  0.        ], Acceleration: [-1.45926999  0.          0.        ]\n",
      "Mercury: Position: [ 0.39  0.    0.  ], Velocity: [  0.         10.9596484   0.       ], Acceleration: [-259.82895174    0.            0.        ]\n",
      "Venus: Position: [ 0.723  0.     0.   ], Velocity: [ 0.          8.00661308  0.        ], Acceleration: [-75.60052322   0.           0.        ]\n",
      "Mars: Position: [ 1.524  0.     0.   ], Velocity: [ 0.          5.46959429  0.        ], Acceleration: [-17.01339505   0.           0.        ]\n",
      "Saturn: Position: [ 9.539  0.     0.   ], Velocity: [ 0.          2.20284159  0.        ], Acceleration: [-0.43631185  0.          0.        ]\n",
      "Uranus: Position: [ 19.18   0.     0.  ], Velocity: [ 0.        1.554947  0.      ], Acceleration: [-0.10772778  0.          0.        ]\n",
      "Neptune: Position: [ 30.06   0.     0.  ], Velocity: [ 0.          1.24122963  0.        ], Acceleration: [-0.04383915  0.          0.        ]\n",
      "Pluto: Position: [ 39.53   0.     0.  ], Velocity: [ 0.          1.08437094  0.        ], Acceleration: [-0.02536259  0.          0.        ]\n",
      "End:\n",
      "Sun: Position: [ 0.00075029  0.00017868  0.        ], Velocity: [ 0.00143697  0.00043836  0.        ], Acceleration: [ 0.00124484  0.00080421  0.        ]\n",
      "Earth: Position: [-0.43112272 -1.17647673  0.        ], Velocity: [ 5.44097831 -0.97101025  0.        ], Acceleration: [  8.6684605   23.61594757   0.        ]\n",
      "Jupiter: Position: [ 4.49363096  2.83288912  0.        ], Velocity: [-1.36815218  2.56434897  0.        ], Acceleration: [-1.18457367 -0.74722786  0.        ]\n",
      "Mercury: Position: [ 0.38233008  0.08918015  0.        ], Velocity: [ -2.07126474  10.71850337   0.        ], Acceleration: [-250.69096179  -58.47172208    0.        ]\n",
      "Venus: Position: [-0.17844336  0.86086595  0.        ], Velocity: [-6.68033119 -0.21023343  0.        ], Acceleration: [ 10.42381732 -50.05912852   0.        ]\n",
      "Mars: Position: [-1.8859753   0.79615269  0.        ], Velocity: [-1.84116844 -3.6401809   0.        ], Acceleration: [ 8.68445063 -3.66315752  0.        ]\n",
      "Saturn: Position: [ 9.32092924  2.1921678   0.        ], Velocity: [-0.43241652  2.15302482  0.        ], Acceleration: [-0.42121975 -0.09849225  0.        ]\n",
      "Uranus: Position: [ 19.12588033   1.55774895   0.        ], Velocity: [-0.10786454  1.55058592  0.        ], Acceleration: [-0.10725536 -0.00869046  0.        ]\n",
      "Neptune: Position: [ 30.03796439   1.2443278    0.        ], Velocity: [-0.04394237  1.24032479  0.        ], Acceleration: [-0.04378876 -0.00180449  0.        ]\n",
      "Pluto: Position: [ 39.51725022   1.08722569   0.        ], Velocity: [-0.0254277  1.0840235  0.       ], Acceleration: [-0.02534952 -0.00069297  0.        ]\n"
     ]
    },
    {
     "data": {
      "image/png": "[encoded data removed]",
      "text/plain": [
       "<matplotlib.figure.Figure at 0xde19be8908>"
      ]
     },
     "metadata": {},
     "output_type": "display_data"
    },
    {
     "name": "stdout",
     "output_type": "stream",
     "text": [
      "Percent Difference in X Position:  -0.00204278583541\n",
      "Percent Difference in Y Position:  -5.3997746073e-05\n"
     ]
    }
   ],
   "source": [
    "full_system=ss.solar_system(n_planets=10)\n",
    "full_system.run()\n",
    "\n",
    "color=['r','b','g','c','m','y','k','w','b','g']\n",
    "\n",
    "for i in range(len(full_system.system)):\n",
    "    \n",
    "    plt.scatter(full_system.system[i].pos[0],full_system.system[i].pos[1],c=color[i])\n",
    "    \n",
    "plt.title(\"Full Solar System\")\n",
    "plt.show()\n",
    "\n",
    "pd_x= abs((sol.system[1].pos[0])-full_system.system[1].pos[0])\\\n",
    "/(.5*(sol.system[1].pos[0]+full_system.system[1].pos[0]))\n",
    "\n",
    "pd_y= abs((sol.system[1].pos[1])-sol_jupiter.system[1].pos[1])\\\n",
    "/(.5*(sol.system[1].pos[1]+sol_jupiter.system[1].pos[1]))\n",
    "\n",
    "print(\"Percent Difference in X Position: \",pd_x)\n",
    "print(\"Percent Difference in Y Position: \",pd_y)"
   ]
  },
  {
   "cell_type": "markdown",
   "metadata": {
    "collapsed": true
   },
   "source": [
    "In the above model the Earth is the dark blue dot close to (0,-1) and the Sun is the red dot close to (0,0). The farther out the planets are the less they move in the time alotted which is what happens in the real world too. There is hardly any change in the position from the Earth Sun model which requires further investigation. It could just be as a result of the sun being $10^6$ times more massive than the other planets. This requires further investigation."
   ]
  },
  {
   "cell_type": "markdown",
   "metadata": {
    "collapsed": true
   },
   "source": [
    "## Conclusion\n",
    "\n",
    "Theoretically the Verlet method should model the orbits of the planets fairly accurately. However, this does not appear to be the case here. Maybe there is an error propagation term I am missing. Whatever the case may be, our final model using the Verlet method seems to be wildly innaccurate."
   ]
  },
  {
   "cell_type": "code",
   "execution_count": null,
   "metadata": {
    "collapsed": true
   },
   "outputs": [],
   "source": []
  }
 ],
 "metadata": {
  "anaconda-cloud": {},
  "kernelspec": {
   "display_name": "Python [Root]",
   "language": "python",
   "name": "Python [Root]"
  },
  "language_info": {
   "codemirror_mode": {
    "name": "ipython",
    "version": 3
   },
   "file_extension": ".py",
   "mimetype": "text/x-python",
   "name": "python",
   "nbconvert_exporter": "python",
   "pygments_lexer": "ipython3",
   "version": "3.5.2"
  }
 },
 "nbformat": 4,
 "nbformat_minor": 0
}
